{
  "cells": [
    {
      "cell_type": "markdown",
      "metadata": {
        "id": "view-in-github",
        "colab_type": "text"
      },
      "source": [
        "<a href=\"https://colab.research.google.com/github/Daksh14/CMPSC/blob/develop/Assignment_1_CMPSC131.ipynb\" target=\"_parent\"><img src=\"https://colab.research.google.com/assets/colab-badge.svg\" alt=\"Open In Colab\"/></a>"
      ]
    },
    {
      "cell_type": "markdown",
      "metadata": {
        "id": "R2aoFQNMhUFb"
      },
      "source": [
        "# CMPSC - 131 Introduction to CompSci\n",
        "For the first assignment I am asking that you read through the first 2 chapters of the book **Python Crash Course** by Matthes. This is easily found online as a free pdf, if proper googling is used. \n",
        "\n",
        "We will be using several different methods of executing Python code. The two main camps will be through a terminal and via a Jupyter notebook. \n",
        "\n",
        "The Anaconda package allows you to do both via a local install on your machine, but you can perform all of the work for this course on different websites. For the notebooks you can use **Google Colab** or myBinder (among others) and for the terminal emulation we can use **Repl.it**. We are going to use **colab.research.google.com** and **repl.it** for in class demos, so I suggest goign to the sites and seeing how they work. You should be able to link both of the systems to your PSU accounts, do that. \n",
        "\n",
        "I have yet to decide which to use throughout the course, but they are all basically the same, so it should make little to no difference. \n"
      ]
    },
    {
      "cell_type": "markdown",
      "metadata": {
        "id": "B6FwIBjrhUFc"
      },
      "source": [
        "CODE For the Book can be found at:\n",
        "\n",
        "https://github.com/ehmatthes/pcc_2e\n",
        "\n",
        "For instance, a problem below will use the code found at https://github.com/ehmatthes/pcc_2e/blob/master/chapter_01/hello_world.py\n",
        "\n",
        "I will also include it in the cell below: "
      ]
    },
    {
      "cell_type": "code",
      "execution_count": null,
      "metadata": {
        "id": "iGT1sqp3hUFd",
        "outputId": "4cfbf587-22d2-41a4-bb12-9035abc92153"
      },
      "outputs": [
        {
          "name": "stdout",
          "output_type": "stream",
          "text": [
            "Hello Python world!\n"
          ]
        }
      ],
      "source": [
        "print(\"Hello Python world!\")"
      ]
    },
    {
      "cell_type": "markdown",
      "metadata": {
        "id": "qOg2lzs6hUFd"
      },
      "source": [
        "## Problem 1\n",
        "Hello World Typos: \n",
        "\n",
        "    Open the hello_world.py file you just created (or place into the next cell and run). Make a typo somewhere in the line and run the program again. Can you make a typo that generates an error? Can you make sense of the error message? Can you make a typo that doesn’t generate an error? hy do you think it didn’t make an error?"
      ]
    },
    {
      "cell_type": "code",
      "execution_count": 1,
      "metadata": {
        "colab": {
          "base_uri": "https://localhost:8080/",
          "height": 134
        },
        "id": "POG9j3mphUFe",
        "outputId": "957617de-9831-49f1-9c03-f4a59d046213"
      },
      "outputs": [
        {
          "output_type": "error",
          "ename": "SyntaxError",
          "evalue": "ignored",
          "traceback": [
            "\u001b[0;36m  File \u001b[0;32m\"<ipython-input-1-98be8e592ef8>\"\u001b[0;36m, line \u001b[0;32m5\u001b[0m\n\u001b[0;31m    variable = input\"Hello\")\u001b[0m\n\u001b[0m                          ^\u001b[0m\n\u001b[0;31mSyntaxError\u001b[0m\u001b[0;31m:\u001b[0m invalid syntax\n"
          ]
        }
      ],
      "source": [
        "### COMMENTS START WITH THE HASH TAG (Pound) Symbol \n",
        "\n",
        "#write some broken code here\n",
        "# variable = input(\"Hello\") \n",
        "variable = input\"Hello\") # Typo makes error\n",
        "# variable = input\"Hello\") # Typo makes no error because commented"
      ]
    },
    {
      "cell_type": "markdown",
      "metadata": {
        "id": "6foujD7whUFe"
      },
      "source": [
        "## Problem 2\n",
        "Infinite Skills: \n",
        "    \n",
        "        If you had infinite programming skills, what would you build?\n",
        "    You’re about to learn how to program. If you have an end goal in mind, you’ll have an\n",
        "    immediate use for your new skills; now is a great time to draft descriptions of what you\n",
        "    want to create. It’s a good habit to keep an “ideas” notebook that you can refer to\n",
        "    whenever you want to start a new project. Take a few minutes now to describe three\n",
        "    programs you want to create."
      ]
    },
    {
      "cell_type": "code",
      "execution_count": null,
      "metadata": {
        "id": "AIcYlbb6hUFf"
      },
      "outputs": [],
      "source": [
        "programs_i_wanna_create = [\"operation-systems\", \"bare-metal-stuff\", \"compilers\", \"physics-engines\"]"
      ]
    },
    {
      "cell_type": "markdown",
      "metadata": {
        "id": "d1JqFLV-hUFf"
      },
      "source": [
        "## Problem 3\n",
        "\n",
        "How are you running your code? Did you install Anaconda, Repl.it, Colab? Do you have past experience with any of these systems and have a preference? \n"
      ]
    },
    {
      "cell_type": "code",
      "execution_count": null,
      "metadata": {
        "id": "dQv0DjKphUFf"
      },
      "outputs": [],
      "source": [
        ""
      ]
    },
    {
      "cell_type": "markdown",
      "source": [
        "I use pycharm to remove all the hassle, if I would be using python professionally, I would use sublime and anaconda "
      ],
      "metadata": {
        "id": "vo2jwk_3iHom"
      }
    },
    {
      "cell_type": "markdown",
      "metadata": {
        "id": "dAL3mi-ehUFg"
      },
      "source": [
        "## Problem 4 \n",
        "\n",
        "Write a separate program to accomplish each of these exercises. Save each program with\n",
        "a filename that follows standard Python conventions, using lowercase letters and\n",
        "underscores, such as simple_message.py and simple_messages.py. (You will need to use repl.it or the local terminal to test that your scripts work).\n",
        "\n",
        "    part1: Simple Message: Assign a message to a variable, and then print that message.\n",
        "    \n",
        "    part2: Simple Messages: Assign a message to a variable, and print that message. Then change the value of the variable to a new message, and print the new message."
      ]
    },
    {
      "cell_type": "code",
      "execution_count": 3,
      "metadata": {
        "colab": {
          "base_uri": "https://localhost:8080/"
        },
        "id": "5ThTgSbkhUFg",
        "outputId": "6d81baef-cee5-400e-a2e4-f01847001a26"
      },
      "outputs": [
        {
          "output_type": "stream",
          "name": "stdout",
          "text": [
            "Message\n"
          ]
        }
      ],
      "source": [
        "variable = \"Message\"\n",
        "print(variable)"
      ]
    },
    {
      "cell_type": "code",
      "source": [
        "variable = \"Message\"\n",
        "print(variable)\n",
        "variable = \"Hello\"\n",
        "print(variable)"
      ],
      "metadata": {
        "colab": {
          "base_uri": "https://localhost:8080/"
        },
        "id": "laOkwKa-idZb",
        "outputId": "28770bd3-1d8c-48f9-906b-345cf1863ee6"
      },
      "execution_count": 2,
      "outputs": [
        {
          "output_type": "stream",
          "name": "stdout",
          "text": [
            "Message\n",
            "Hello\n"
          ]
        }
      ]
    },
    {
      "cell_type": "markdown",
      "source": [
        ""
      ],
      "metadata": {
        "id": "89EGr62KidK8"
      }
    },
    {
      "cell_type": "markdown",
      "metadata": {
        "id": "6Jpb4XSBhUFg"
      },
      "source": [
        "## Problem 5\n",
        "    Find a quote from a famous person you admire. Print the quote and the name of its author. Your output should look something like the following, including the quotation marks:\n",
        "\n",
        "Albert Einstein once said, “A person who never made a mistake\n",
        "never tried anything new.”\n",
        "\n",
        "    Repeat the above, but this time, represent the famous person’s name using a variable called ***famous_person***. Then compose your message and represent it with a new variable called ***message***. Print your message."
      ]
    },
    {
      "cell_type": "code",
      "execution_count": 4,
      "metadata": {
        "colab": {
          "base_uri": "https://localhost:8080/"
        },
        "id": "AJjANzyEhUFh",
        "outputId": "9aad55a8-065a-4ee6-999b-3a938041c018"
      },
      "outputs": [
        {
          "output_type": "stream",
          "name": "stdout",
          "text": [
            "Linus Torvalds once said, \"Talk is cheap, show code\".\n"
          ]
        }
      ],
      "source": [
        "print(\"Linus Torvalds once said, \\\"Talk is cheap, show code\\\".\")"
      ]
    },
    {
      "cell_type": "code",
      "source": [
        "famous_person = \"Linux Torvalds\"\n",
        "message = famous_person + \" once said, \\\"Talk is cheap, show code\\\".\"\n",
        "print(message)"
      ],
      "metadata": {
        "colab": {
          "base_uri": "https://localhost:8080/"
        },
        "id": "e6Dqt8Nqi89D",
        "outputId": "f137564a-a14f-460a-f0e9-7131cd5f6723"
      },
      "execution_count": 6,
      "outputs": [
        {
          "output_type": "stream",
          "name": "stdout",
          "text": [
            "Linux Torvalds once said, \"Talk is cheap, show code\".\n"
          ]
        }
      ]
    },
    {
      "cell_type": "markdown",
      "metadata": {
        "id": "hS-aKrSwhUFh"
      },
      "source": [
        "## Problem 6\n",
        "\n",
        "    Write addition, subtraction, multiplication, and division operations that each result in the number 8. Be sure to enclose your operations in print() calls to see the results. You should create four lines that look like this:\n",
        "\n",
        "```\n",
        "print(5+3)\n",
        "```\n",
        "\n",
        "Your output should simply be four lines with the number 8 appearing once on eachline.\n"
      ]
    },
    {
      "cell_type": "code",
      "execution_count": 8,
      "metadata": {
        "colab": {
          "base_uri": "https://localhost:8080/"
        },
        "id": "UzG_3JQ-hUFh",
        "outputId": "d703d308-c958-4fc0-d276-80da9ef38208"
      },
      "outputs": [
        {
          "output_type": "stream",
          "name": "stdout",
          "text": [
            "8\n",
            "8\n",
            "8\n",
            "8\n"
          ]
        }
      ],
      "source": [
        "print(1+7)\n",
        "print(9-1)\n",
        "print(4*2)\n",
        "print(int(16/2))"
      ]
    }
  ],
  "metadata": {
    "kernelspec": {
      "display_name": "Python 3",
      "language": "python",
      "name": "python3"
    },
    "language_info": {
      "codemirror_mode": {
        "name": "ipython",
        "version": 3
      },
      "file_extension": ".py",
      "mimetype": "text/x-python",
      "name": "python",
      "nbconvert_exporter": "python",
      "pygments_lexer": "ipython3",
      "version": "3.7.6"
    },
    "colab": {
      "name": "Assignment 1 - CMPSC131.ipynb",
      "provenance": [],
      "include_colab_link": true
    }
  },
  "nbformat": 4,
  "nbformat_minor": 0
}